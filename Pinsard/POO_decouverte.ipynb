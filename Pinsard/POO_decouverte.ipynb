{
 "cells": [
  {
   "cell_type": "markdown",
   "id": "31de76fb",
   "metadata": {},
   "source": [
    "# Programmation Orientée Objet - Découverte\n",
    "*(POO pour les intimes, OOP pour les anglais)*\n",
    "\n",
    "La programmation orientée objet est une façon d'écrire des programmes structurés différemment des programmes dont vous avez l'habitude.\n",
    "\n",
    "On parle de **paradigme**. Les 3 plus répandus sont :\n",
    "- paradigme *impératif* ou *procédurale* (celui auquel vous êtes habitués)\n",
    "- paradigme *objet*\n",
    "- paradigme *fonctionnel*\n",
    "\n",
    "Ces différents paradigmes ne sont pas incompatibles, il est possible voire fréquent de les combiner au sein d'un mếme programme.\n",
    "\n",
    "## POO, en quoi est-ce différent ?\n",
    "\n",
    "Lorsque vous écrivez un programme impératif vous concevez une *procédure* : une suite d'instructions qui décrivent un comportement, une recette.\n",
    "\n",
    "Lorsqu'on écrit un programme objet, on modélise le problème par des *objets* que l'on fait ensuite interagir entre eux.\n",
    "\n",
    "Un **objet** est une structure de donnée qui inclus à la fois un état (on parle de **propriétés** ou d'**attributs**) et un comportement (qu'on appelle **méthodes**) :\n",
    "- Une **propriété** d'un objet est assimilable à une **variable**, mais qui est rattachée à l'objet.\n",
    "- De la même façon, une **méthode** d'objet est assimilable à une fonction. Les méthodes retournent un résultat ou modifient l'état (= les propriétés) de l'objet.\n",
    "\n",
    "## Mais concrètement comment ça fonctionne ?\n",
    "\n",
    "Avant d'utiliser un objet dans un programme, il faut d'abord le décrire ou le définir. Les objets sont créés à partir de **classes**. La **classe** est une définition, un plan, que le langage va utiliser pour construire des objets. Les objets ainsi créés auront les propriétés et les méthodes décrites dans la classe.\n",
    "\n",
    "L'action de construire un nouvel objet à partir d'une classe est appelée : **instanciation**. \n",
    "\n",
    "> **Instancier** : instruction qui consiste à créer un objet à partir d'une classe. L'instanciation se réalise en appelant le **constructeur** de la classe.\n",
    "\n",
    "> **Constructeur** : méthode particulière d'une classe qui détermine comment elle va être construite. Elle sert notamment à déterminer l'état de l'objet créé (= la valeur de ses propriétés).\n",
    "\n",
    "## Le peintre et la maison : Modéliser une situation donnée.\n",
    "\n",
    "Prenons un exemple de situation à modéliser : \n",
    "> Dans un village imaginaire nous avons des **maisons** imaginaires qui peuvent être *ouvertes* ou *fermées* à clé. L'ouverture de la maison se fait par un *code secret*. Les maisons ont toutes *4 murs* extérieurs (Nord, Sud, Est, Ouest) qui ont chacun une *couleur*.\n",
    "\n",
    "> Dans ce village il y a des **villageois**. Un villageois possède une *maison*. Il a la mémoire d'un *code d'entrée*. Il peut *rentrer* chez-lui en utilisant son code en mémoire. \n",
    "\n",
    "> Il y a aussi un **peintre**. Il a le pouvoir de modifier la couleur d'un mur d'une maison.\n",
    "\n",
    "Ci-dessous, voici comment nous pourrions faire une description générique d'une maison:\n",
    "\n",
    "*Plusieurs interprétations du texte ci-dessus sont possibles. La solution présentée ci-dessous en est une parmi d'autres.*"
   ]
  },
  {
   "cell_type": "code",
   "execution_count": 2,
   "id": "c4104fd0",
   "metadata": {},
   "outputs": [],
   "source": [
    "# Définition de la classe 'maison', avec ses propriétés et ses méthodes.\n",
    "class Maison():\n",
    "    ouverte = False\n",
    "    code_secret = \"1234A\"\n",
    "    \n",
    "    def __init__(self, numéro, rue):\n",
    "        # Constructeur de la classe Maison. Inutilisé pour l'instant.\n",
    "        self.couleurs = {\"N\": \"blanc\", \"S\": \"blanc\", \"E\": \"blanc\", \"O\": \"blanc\"}\n",
    "        self.adresse = dict()\n",
    "        self.adresse[\"numéro\"] = numéro\n",
    "        self.adresse[\"rue\"] = rue\n",
    "    \n",
    "    def fermer(self):\n",
    "        self.ouverte = False\n",
    "        return self.ouverte\n",
    "\n",
    "    def ouvrir(self, code_saisi):\n",
    "        if code_saisi == self.code_secret:\n",
    "            self.ouverte = True\n",
    "        \n",
    "        return self.ouverte\n",
    "    \n",
    "    def peindre(self, mur, couleur):\n",
    "        self.couleurs[mur] = couleur"
   ]
  },
  {
   "cell_type": "markdown",
   "id": "2bc0bbf5",
   "metadata": {},
   "source": [
    "Pour *instancier* notre maison, il faut **appeler** (= exécuter) la classe Maison. Le résultat de l'appel de la classe Maison est un **objet** de **type Maison**."
   ]
  },
  {
   "cell_type": "code",
   "execution_count": 3,
   "id": "60cecbbf",
   "metadata": {},
   "outputs": [],
   "source": [
    "# Instanciation :\n",
    "maison_mère_grand = Maison()\n",
    "\n",
    "# L'objet obtenu est stocké dans une variable. cette variable référence donc désormais un objet de type Maison."
   ]
  },
  {
   "cell_type": "markdown",
   "id": "01e8c816",
   "metadata": {},
   "source": [
    "On peut ensuite interagir avec cet objet :"
   ]
  },
  {
   "cell_type": "code",
   "execution_count": 4,
   "id": "c9fa89cc",
   "metadata": {},
   "outputs": [
    {
     "data": {
      "text/plain": [
       "False"
      ]
     },
     "execution_count": 4,
     "metadata": {},
     "output_type": "execute_result"
    }
   ],
   "source": [
    "# Pour accéder à la propriété d'un objet, on utilise le '.' : objet.propriété\n",
    "maison_mère_grand.ouverte"
   ]
  },
  {
   "cell_type": "code",
   "execution_count": 5,
   "id": "d8c20e5d",
   "metadata": {
    "scrolled": true
   },
   "outputs": [
    {
     "data": {
      "text/plain": [
       "True"
      ]
     },
     "execution_count": 5,
     "metadata": {},
     "output_type": "execute_result"
    }
   ],
   "source": [
    "# Pour appeler la méthode d'un objet, on utilise aussi le '.' : objet.méthode()\n",
    "maison_mère_grand.ouvrir(\"1234A\")"
   ]
  },
  {
   "cell_type": "code",
   "execution_count": 6,
   "id": "3fda7b5a",
   "metadata": {},
   "outputs": [
    {
     "data": {
      "text/plain": [
       "True"
      ]
     },
     "execution_count": 6,
     "metadata": {},
     "output_type": "execute_result"
    }
   ],
   "source": [
    "maison_mère_grand.ouverte"
   ]
  },
  {
   "cell_type": "markdown",
   "id": "412eb924",
   "metadata": {},
   "source": [
    "### Remarques\n",
    "Quelques définitions et précisions sur ce qui est écrit ci-dessus :\n",
    "> **class** : mot-clé du langage python qui permet de déclarer une nouvelle classe. De la même façon que pour les fonctions, le nom de la classe est suivi des parenthèses puis de ':'. Le code associé à cette classe est **indenté**\n",
    "\n",
    "> **def** : lorsqu'une fonction est déclarée au sein d'une classe, elle est alors une **méthode** de cette classe. Les méthodes sont en tout points similaires aux fonctions à ceci-près : elles reçoivent toujours un paramètre **self** en première position dans la liste des arguments. \n",
    "\n",
    "> **self** : mot-clé du langage python qui fait référence à l'**objet lui-même**. Ce mot-clé n'est valide qu'à l'intérieur d'une méthode de classe, et permet à l'objet qui exécute cette méthode d'accéder à son état (= l'ensemble de ses propriétés).\n",
    "\n",
    "> Appel des méthodes : Lorsque la méthode d'un objet est appelée, il n'est pas nécessaire d'attribuer une valeur à l'agument *self*, c'est Python qui s'en charge implicitement. Si *self* est le seul argument de la méthode, alors il suffit de ne rien mettre en argument. \n",
    "\n",
    "Exemple : mon_objet.méthode() appelle la méthode de mon_objet, même si dans la classe de mon_objet, la méthode est définie par **def** méthode(self):...\n",
    "\n",
    "> Convention d'écriture : en python le nom d'une classe commence toujours par une Majuscule. S'il est composé de plusieurs mots, ils sont tous collés avec une Majuscule. Exemple : MaNouvelleClasse. Cela permet de distinguer facilement les noms d'objets des noms de classes. Cette syntaxe est appelée [CamelCase](https://fr.wikipedia.org/wiki/Camel_case), ou upper camel case."
   ]
  },
  {
   "cell_type": "markdown",
   "id": "98850fa9",
   "metadata": {},
   "source": [
    "## Exercices d'appropriation\n",
    "\n",
    "Les différents exercices ci-dessous vous permettront de vos approprier progressivement ces notions.\n",
    "\n",
    "### POO-1 : Quelle adresse ?\n",
    "Modifiez la définition de la classe plus haut : ajoutez une propriété ou plusieurs propriétés aux objets maison de sorte à représenter l'adresse de la maison. On considèrera que l'adresse d'une maison est définie simplement par un numéro et un nom de rue."
   ]
  },
  {
   "cell_type": "code",
   "execution_count": null,
   "id": "df6fec6b",
   "metadata": {},
   "outputs": [],
   "source": [
    "# Exécutez une nouvelle instanciation après avoir modifier la définition de classe.\n",
    "maison_de_toto = Maison()\n",
    "\n",
    "# Ecrivez ici les lignes permettant d'accéder à votre/vos nouvelle/s propriété/s\n",
    "\n"
   ]
  },
  {
   "cell_type": "markdown",
   "id": "033998f3",
   "metadata": {},
   "source": [
    "#### Mais du coup, comment définir l'adresse de la maison ?\n",
    "Nous pourrions écrire nouvelle méthode qui aurait en charge de modifier l'adresse de la maison, mais cela a-t-il du sens de modifier l'adresse d'une maison ? Son adresse est plus logiquement définie **à la construction**. \n",
    "\n",
    "Qu'à cela ne tienne ! **Modifiez** le **constructeur** de la maison de sorte qu'il reçoive en **argument** les informations de l'adresse. A chaque nouvelle maison construire on devra donc appeler le constructeur de la sorte :"
   ]
  },
  {
   "cell_type": "code",
   "execution_count": null,
   "id": "c52ad7a4",
   "metadata": {},
   "outputs": [],
   "source": [
    "maison_de_toto = Maison(102, \"Miss Hillfix\")\n",
    "# Les valeurs de l'adresse sont passées en argument à la construction."
   ]
  },
  {
   "cell_type": "markdown",
   "id": "314b6f28",
   "metadata": {},
   "source": [
    "### POO-2 : Modifier le code secret\n",
    "Ajoutez une méthode à la définition de la classe Maison. Cette méthode prends l'ancien code et le nouveau code en argument. Si l'ancien code correspond au code actuel de la maison, sa valeur est remplacée par le nouveau code. La méthode renvoi Vrai ou Faux selon le succès du changement de code."
   ]
  },
  {
   "cell_type": "markdown",
   "id": "cd7ec18a",
   "metadata": {},
   "source": [
    "### POO-3 : Ecrire une nouvelle classe !\n",
    "Vous êtes prêt/e. Il est temps pour vous d'écrire votre propre classe. Reprenez la définition du villageois et écrivez sa classe.\n",
    "\n",
    "> Dans ce village il y a des **villageois**. Un villageois possède une *maison*. Il a la mémoire d'un *code d'entrée*. Il peut *rentrer* chez-lui en utilisant son code en mémoire. "
   ]
  },
  {
   "cell_type": "code",
   "execution_count": null,
   "id": "7696adf6",
   "metadata": {},
   "outputs": [],
   "source": []
  },
  {
   "cell_type": "markdown",
   "id": "54b4419c",
   "metadata": {},
   "source": [
    "## Pousser le bouchon encore plus loin.\n",
    "Envie d'aller plus loin dans le travail de modélisation ? \n",
    "\n",
    "Maurice est un villageois qui aimerait pouvoir écrire à ses amis. Il peut **écrire une lettre** et l'envoyer. La **lettre** est simplement composée d'une adresse de destination et d'un texte. Maurice la remet à un bureau de poste. Lorsque le **Facteur** fait *sa tournée*, il récupère la liste des lettres postées par les villageois, puis il parcourt toutes les maisons du village. A chaque maison, il parcourt les lettres et insère dans *la boite aux lettres* toutes celles dont la destination correspond à l'adresse de la maison.\n",
    "\n",
    "Faites un test avec chaperon rouge qui écrit à mère grand et toto, et toto écrit à mère grand et Maurice. Les maisons de chacuns des villageois ont-elles reçu les lettres ?"
   ]
  },
  {
   "cell_type": "code",
   "execution_count": null,
   "id": "d5210700",
   "metadata": {},
   "outputs": [],
   "source": []
  }
 ],
 "metadata": {
  "kernelspec": {
   "display_name": "Python 3 (ipykernel)",
   "language": "python",
   "name": "python3"
  },
  "language_info": {
   "codemirror_mode": {
    "name": "ipython",
    "version": 3
   },
   "file_extension": ".py",
   "mimetype": "text/x-python",
   "name": "python",
   "nbconvert_exporter": "python",
   "pygments_lexer": "ipython3",
   "version": "3.10.5"
  }
 },
 "nbformat": 4,
 "nbformat_minor": 5
}
