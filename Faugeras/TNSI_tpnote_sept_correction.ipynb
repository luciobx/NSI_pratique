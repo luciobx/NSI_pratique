{
 "cells": [
  {
   "cell_type": "markdown",
   "metadata": {},
   "source": [
    "<center> \n",
    "    <div class=\"alert alert-danger\" style=\"font-style:bold; border:2px solid black; border-radius: 15px\"> \n",
    "     <b>TP noté 1 CORRECTION <br></b>\n",
    "     23 septembre<br>\n",
    "         Récursivité et POO \n",
    "    </div>\n",
    "</center>\n"
   ]
  },
  {
   "cell_type": "markdown",
   "metadata": {},
   "source": [
    "# Exercice 1 : Récursivité"
   ]
  },
  {
   "cell_type": "markdown",
   "metadata": {},
   "source": [
    "\n",
    "## Somme des éléments d'une liste"
   ]
  },
  {
   "cell_type": "markdown",
   "metadata": {},
   "source": [
    "\n",
    "***Écrire une fonction récursive qui renvoie la somme des éléments d'une  liste d'entiers passée en paramètre***"
   ]
  },
  {
   "cell_type": "code",
   "execution_count": null,
   "metadata": {},
   "outputs": [],
   "source": [
    "def somme(lst):\n",
    "    if len(lst)==1:\n",
    "        return lst[0]\n",
    "    else:\n",
    "        return lst[0] + somme(lst[1:])"
   ]
  },
  {
   "cell_type": "code",
   "execution_count": null,
   "metadata": {},
   "outputs": [],
   "source": [
    "l=[1,2,3,4,5]\n",
    "l1=[0]\n",
    "assert somme(l) == 15\n",
    "assert somme(l1)==0"
   ]
  },
  {
   "cell_type": "markdown",
   "metadata": {},
   "source": [
    "# Exercice 2 : Récursivité"
   ]
  },
  {
   "cell_type": "markdown",
   "metadata": {},
   "source": [
    "***Soit une chaine de caractères, écrire un algorithme récursif permettant de déterminer sa longueur***"
   ]
  },
  {
   "cell_type": "code",
   "execution_count": null,
   "metadata": {},
   "outputs": [],
   "source": [
    "def longueur(ch) :\n",
    "    if len(ch)==1 :\n",
    "        return 1\n",
    "    else :\n",
    "        return 1 + longueur(ch[1:])"
   ]
  },
  {
   "cell_type": "code",
   "execution_count": null,
   "metadata": {},
   "outputs": [],
   "source": [
    "assert longueur(\"abc\") == 3\n",
    "assert longueur(\"a\") == 1"
   ]
  },
  {
   "cell_type": "markdown",
   "metadata": {},
   "source": [
    "# Exercice 3 : POO"
   ]
  },
  {
   "cell_type": "markdown",
   "metadata": {},
   "source": [
    "On souhaite créer une application de gestion d’un élevage de chiens. On a créé une classe `Chien` ainsi que plusieurs instances de cette classe :  \n",
    "`medor = Chien(\"Medor\", (\"Berger allemand\", ), \"male\", 2018)`,   \n",
    "`loula = Chien(\"Loula\", (\"Caniche\", \"Cocker\"), \"femelle\", 2019)`\n"
   ]
  },
  {
   "cell_type": "code",
   "execution_count": 1,
   "metadata": {},
   "outputs": [],
   "source": [
    "import time\n",
    "from random import choice\n",
    "class Chien:     \n",
    "    def __init__(self, nom, race, sexe, annee): \n",
    "        \"\"\" \n",
    "        Parameters       \n",
    "        nom : str  nom du chien         \n",
    "        race : tuple  \n",
    "            une seule race si le chien est pure race,  \n",
    "            deux ou plusieurs races dans le cas d’un croisement les races sont des chaines de caractères         \n",
    "        sexe : str \n",
    "            \"male\" ou \"femelle\"         \n",
    "        annee : int année de naissance du chien \n",
    " \n",
    "        \"\"\" \n",
    "        self._nom = nom         \n",
    "        self._race = race         \n",
    "        self._annee = annee \n",
    "        self._sexe = sexe \n",
    "     \n",
    "    def getNom(self): \n",
    "        return self._nom \n",
    "    def getSexe(self): \n",
    "        return self._sexe \n",
    "    def getRace(self): \n",
    "        return self._race \n",
    "    def getAnnee(self):\n",
    "        return self._annee\n",
    "    \n",
    "    def setNom(self, nouveauNom ): \n",
    "        self._nom = nouveauNom\n",
    "\n",
    "    def age(self) : \n",
    "        return time.gmtime().tm_year - self.getAnnee()\n",
    "    \n",
    "    def pure_race(self) :\n",
    "        return len(self.getRace()) == 1\n",
    "    \n",
    "    def __repr__(self) : \n",
    "        return f'Le chien {self.getNom()} de race {self.getRace()} est {self.getSexe()} de {self.age()} ans'\n",
    "    \n",
    "## En dehors de la classe\n",
    "def bebe(chien1,chien2,nom) : \n",
    "    return Chien(nom, (chien1.getRace()[0], chien2.getRace()[0]), choice([\"male\", \"femelle\"]), time.gmtime().tm_year)"
   ]
  },
  {
   "cell_type": "markdown",
   "metadata": {},
   "source": [
    "**Q1 :** Ecrire le constructeur en respectant les spécifications de la classe "
   ]
  },
  {
   "cell_type": "markdown",
   "metadata": {},
   "source": [
    "**Q2 :** Ecrire les accesseurs et les mutateurs <u>nécessaires et pertinents</u>"
   ]
  },
  {
   "cell_type": "markdown",
   "metadata": {},
   "source": [
    "**Q3 :** Quelle expression permet d’obtenir le sexe de loula ? "
   ]
  },
  {
   "cell_type": "code",
   "execution_count": 2,
   "metadata": {},
   "outputs": [
    {
     "data": {
      "text/plain": [
       "'Loula'"
      ]
     },
     "execution_count": 2,
     "metadata": {},
     "output_type": "execute_result"
    }
   ],
   "source": [
    "medor = Chien(\"Medor\", (\"Berger allemand\", ), \"male\", 2018)\n",
    "loula = Chien(\"Loula\", (\"Caniche\", \"Cocker\"), \"femelle\", 2019)\n",
    "\n",
    "loula.getNom()"
   ]
  },
  {
   "cell_type": "markdown",
   "metadata": {},
   "source": [
    "**Q4 :** Écrire une méthode de la classe `Chien` une **fonction** `age` renvoyant l’âge approximatif d’un chien (en 2022 on considèrera qu’un chien né en 2018 a 4 ans sans chercher à connaitre son jour de naissance).\n",
    "\n",
    "Ecrire la fonction dans la classe et vos tests ci dessous\n",
    "\n",
    "***note :*** L’expression `time.gmtime().tm_year` renvoie alors l’année actuelle.   "
   ]
  },
  {
   "cell_type": "code",
   "execution_count": null,
   "metadata": {},
   "outputs": [],
   "source": [
    "loula.age()"
   ]
  },
  {
   "cell_type": "markdown",
   "metadata": {},
   "source": [
    "**Q5 :** Écrire une méthode de la classe `Chien` une **fonction** `pure_race` renvoyant un booléen indiquant si un chien est pure race. \n",
    "\n",
    "Ecrire la fonction dans la classe et vos tests ci dessous"
   ]
  },
  {
   "cell_type": "code",
   "execution_count": 6,
   "metadata": {},
   "outputs": [],
   "source": [
    "assert medor.pure_race() == True\n",
    "assert loula.pure_race() == False"
   ]
  },
  {
   "cell_type": "markdown",
   "metadata": {},
   "source": [
    "**Q6 :** Écrire la fonction  `def bebe(chien1,chien2,nom)`en dehors de la classe qui prend en paramètre deux instances de la classe chien et créer un nouveau chien dont le sexe sera définit au hasard et la race prendra la première race de chaque parent. On prendra l’année actuelle comme année de naissance. "
   ]
  },
  {
   "cell_type": "code",
   "execution_count": 7,
   "metadata": {},
   "outputs": [
    {
     "data": {
      "text/plain": [
       "('Berger allemand', 'Caniche')"
      ]
     },
     "execution_count": 7,
     "metadata": {},
     "output_type": "execute_result"
    }
   ],
   "source": [
    "melo = bebe(medor, loula, \"melo\")\n",
    "melo.getRace()"
   ]
  },
  {
   "cell_type": "markdown",
   "metadata": {},
   "source": [
    "**Q7 :** Écrire une fonction `def compatible(chien1: Chien, chien2: Chien)` en dehors de la classe renvoyant True si deux chiens ont une race en commun (parmi leur liste de races) et False dans le cas contraire.   "
   ]
  },
  {
   "cell_type": "code",
   "execution_count": 10,
   "metadata": {},
   "outputs": [],
   "source": [
    "def compatible(chien1, chien2) :\n",
    "    #Recup de la liste des races du chien1\n",
    "    race1 = chien1.getRace()\n",
    "    #Recup de la liste des races du chien1\n",
    "    race2 = chien2.getRace()\n",
    "    for elt1 in race1 :\n",
    "        for elt2 in race2 :\n",
    "            if elt1 == elt2 :\n",
    "                return True\n",
    "    return False\n"
   ]
  },
  {
   "cell_type": "code",
   "execution_count": 12,
   "metadata": {},
   "outputs": [
    {
     "data": {
      "text/plain": [
       "False"
      ]
     },
     "execution_count": 12,
     "metadata": {},
     "output_type": "execute_result"
    }
   ],
   "source": [
    "assert compatible (medor, loula) == False\n",
    "assert compatible (medor, melo) == True\n",
    "assert compatible (melo, loula) == True"
   ]
  },
  {
   "cell_type": "markdown",
   "metadata": {},
   "source": [
    "**Q2 :** Ecrire dans la classe une **fonction** permettant d'afficher proprement le pedigre du chien "
   ]
  },
  {
   "cell_type": "code",
   "execution_count": 3,
   "metadata": {},
   "outputs": [
    {
     "name": "stdout",
     "output_type": "stream",
     "text": [
      "Le chien Medor de race ('Berger allemand',) est male de 4\n"
     ]
    }
   ],
   "source": [
    "print(medor)"
   ]
  }
 ],
 "metadata": {
  "kernelspec": {
   "display_name": "Python 3",
   "language": "python",
   "name": "python3"
  },
  "language_info": {
   "codemirror_mode": {
    "name": "ipython",
    "version": 3
   },
   "file_extension": ".py",
   "mimetype": "text/x-python",
   "name": "python",
   "nbconvert_exporter": "python",
   "pygments_lexer": "ipython3",
   "version": "3.8.3"
  }
 },
 "nbformat": 4,
 "nbformat_minor": 4
}
