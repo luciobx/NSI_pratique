{
 "cells": [
  {
   "cell_type": "markdown",
   "metadata": {},
   "source": [
    "<center> \n",
    "    <div class=\"alert alert-danger\" style=\"font-style:bold; border:2px solid black; border-radius: 15px\"> \n",
    "     <b>TP noté 1 <br></b>\n",
    "     23 septembre<br>\n",
    "         Récursivité et POO \n",
    "    </div>\n",
    "</center>\n"
   ]
  },
  {
   "cell_type": "markdown",
   "metadata": {},
   "source": [
    "# Exercice 1 : Récursivité"
   ]
  },
  {
   "cell_type": "markdown",
   "metadata": {},
   "source": [
    "\n",
    "## Somme des éléments d'une liste"
   ]
  },
  {
   "cell_type": "markdown",
   "metadata": {},
   "source": [
    "\n",
    "***Écrire une fonction récursive qui renvoie la somme des éléments d'une  liste d'entiers passée en paramètre***\n",
    "\n",
    "Vous veillerez à écrire les asserts pour votre fonction"
   ]
  },
  {
   "cell_type": "code",
   "execution_count": null,
   "metadata": {},
   "outputs": [],
   "source": [
    "#"
   ]
  },
  {
   "cell_type": "code",
   "execution_count": null,
   "metadata": {},
   "outputs": [],
   "source": [
    "#"
   ]
  },
  {
   "cell_type": "markdown",
   "metadata": {},
   "source": [
    "# Exercice 2 : Récursivité"
   ]
  },
  {
   "cell_type": "markdown",
   "metadata": {},
   "source": [
    "***Soit une chaine de caractères, écrire un algorithme récursif permettant de déterminer sa longueur***\n",
    "\n",
    "Vous veillerez à écrire les asserts pour votre fonction"
   ]
  },
  {
   "cell_type": "code",
   "execution_count": null,
   "metadata": {},
   "outputs": [],
   "source": [
    "#"
   ]
  },
  {
   "cell_type": "code",
   "execution_count": null,
   "metadata": {},
   "outputs": [],
   "source": [
    "#"
   ]
  },
  {
   "cell_type": "markdown",
   "metadata": {},
   "source": [
    "# Exercice 3 : POO"
   ]
  },
  {
   "cell_type": "markdown",
   "metadata": {},
   "source": [
    "On souhaite créer une application de gestion d’un élevage de chiens. On a créé une classe `Chien` ainsi que plusieurs instances de cette classe :  \n",
    "`medor = Chien(\"Medor\", (\"Berger allemand\", ), \"male\", 2018)`,   \n",
    "`loula = Chien(\"Loula\", (\"Caniche\", \"Cocker\"), \"femelle\", 2019)`\n"
   ]
  },
  {
   "cell_type": "code",
   "execution_count": null,
   "metadata": {},
   "outputs": [],
   "source": [
    "import time\n",
    "from random import choice\n",
    "class Chien:     \n",
    "    def __init__(self, nom, race, sexe, annee): \n",
    "        \"\"\" \n",
    "        Parameters       \n",
    "        nom : str  nom du chien         \n",
    "        race : tuple  \n",
    "            une seule race si le chien est pure race,  \n",
    "            deux ou plusieurs races dans le cas d’un croisement les races sont des chaines de caractères         \n",
    "        sexe : str \n",
    "            \"male\" ou \"femelle\"         \n",
    "        annee : int année de naissance du chien \n",
    " \n",
    "        \"\"\" \n",
    "        \n",
    "     \n",
    "   "
   ]
  },
  {
   "cell_type": "markdown",
   "metadata": {},
   "source": [
    "**Q1 :** Ecrire le constructeur en respectant les spécifications de la classe "
   ]
  },
  {
   "cell_type": "markdown",
   "metadata": {},
   "source": [
    "**Q2 :** Ecrire les accesseurs et les mutateurs <u>nécessaires et pertinents</u>"
   ]
  },
  {
   "cell_type": "markdown",
   "metadata": {},
   "source": [
    "**Q3 :** Quelle expression permet d’obtenir le sexe de loula ? "
   ]
  },
  {
   "cell_type": "code",
   "execution_count": null,
   "metadata": {},
   "outputs": [],
   "source": [
    "#test"
   ]
  },
  {
   "cell_type": "markdown",
   "metadata": {},
   "source": [
    "**Q4 :** Écrire une méthode de la classe `Chien` une **fonction** `age` renvoyant l’âge approximatif d’un chien (en 2022 on considèrera qu’un chien né en 2018 a 4 ans sans chercher à connaitre son jour de naissance).\n",
    "\n",
    "Ecrire la fonction dans la classe et vos tests ci dessous\n",
    "\n",
    "***note :*** L’expression `time.gmtime().tm_year` renvoie alors l’année actuelle.   "
   ]
  },
  {
   "cell_type": "code",
   "execution_count": null,
   "metadata": {},
   "outputs": [],
   "source": [
    "#test"
   ]
  },
  {
   "cell_type": "markdown",
   "metadata": {},
   "source": [
    "**Q5 :** Écrire une méthode de la classe `Chien` une **fonction** `pure_race` renvoyant un booléen indiquant si un chien est pure race. \n",
    "\n",
    "Ecrire la fonction dans la classe et vos tests ci dessous"
   ]
  },
  {
   "cell_type": "code",
   "execution_count": null,
   "metadata": {},
   "outputs": [],
   "source": [
    "#test"
   ]
  },
  {
   "cell_type": "markdown",
   "metadata": {},
   "source": [
    "**Q6 :** Écrire la fonction  `def bebe(chien1,chien2,nom)`en dehors de la classe qui prend en paramètre deux instances de la classe chien et créer un nouveau chien dont le sexe sera définit au hasard et la race prendra la première race de chaque parent. On prendra l’année actuelle comme année de naissance. "
   ]
  },
  {
   "cell_type": "code",
   "execution_count": null,
   "metadata": {},
   "outputs": [],
   "source": [
    "#test"
   ]
  },
  {
   "cell_type": "markdown",
   "metadata": {},
   "source": [
    "**Q7 :** Écrire une fonction `def compatible(chien1: Chien, chien2: Chien)` en dehors de la classe renvoyant True si deux chiens ont une race en commun (parmi leur liste de races) et False dans le cas contraire.   "
   ]
  },
  {
   "cell_type": "code",
   "execution_count": null,
   "metadata": {},
   "outputs": [],
   "source": [
    "test"
   ]
  },
  {
   "cell_type": "markdown",
   "metadata": {},
   "source": [
    "**Q8 :** Ecrire dans la classe une **fonction** permettant d'afficher proprement le pedigre du chien "
   ]
  },
  {
   "cell_type": "code",
   "execution_count": null,
   "metadata": {},
   "outputs": [],
   "source": [
    "#test"
   ]
  }
 ],
 "metadata": {
  "kernelspec": {
   "display_name": "Python 3",
   "language": "python",
   "name": "python3"
  },
  "language_info": {
   "codemirror_mode": {
    "name": "ipython",
    "version": 3
   },
   "file_extension": ".py",
   "mimetype": "text/x-python",
   "name": "python",
   "nbconvert_exporter": "python",
   "pygments_lexer": "ipython3",
   "version": "3.8.3"
  }
 },
 "nbformat": 4,
 "nbformat_minor": 4
}
